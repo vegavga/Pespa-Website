{
 "cells": [
  {
   "cell_type": "markdown",
   "metadata": {
    "id": "jUrP-Vl4mw5p"
   },
   "source": [
    "# Algoritma KNN\n",
    "\n"
   ]
  },
  {
   "cell_type": "markdown",
   "metadata": {
    "id": "bqPUvgao99Tc"
   },
   "source": [
    "**Import Library**\n",
    "\n",
    "---\n",
    "import library yang akan digunakan\n",
    "\n",
    "\n",
    "\n"
   ]
  },
  {
   "cell_type": "code",
   "execution_count": 2,
   "metadata": {
    "id": "AuoI5FaNEU2I"
   },
   "outputs": [],
   "source": [
    "from sklearn.model_selection import train_test_split\n",
    "from sklearn.preprocessing import StandardScaler\n",
    "from sklearn.neighbors import KNeighborsClassifier\n",
    "from sklearn.metrics import confusion_matrix\n",
    "from sklearn.metrics import f1_score\n",
    "from sklearn.metrics import accuracy_score\n",
    "import sklearn.metrics as metrics\n",
    "from sklearn.metrics import classification_report\n",
    "from sklearn.model_selection import KFold, cross_validate\n",
    "from sklearn.model_selection import cross_val_score\n",
    "import numpy as np\n",
    "import pandas as pd\n",
    "import matplotlib.pyplot as plt\n",
    "import seaborn as sns\n",
    "\n"
   ]
  },
  {
   "cell_type": "markdown",
   "metadata": {
    "id": "UJd6CCjmHFSn"
   },
   "source": [
    "**Import Dataset**\n",
    "\n",
    "---\n",
    "Data yang telah didapat setelah dilakukan rekap data secara manual dan akan dilakukan pembersihan data serta penambahan fitur yang akan dibutuhkan."
   ]
  },
  {
   "cell_type": "code",
   "execution_count": 3,
   "metadata": {
    "colab": {
     "base_uri": "https://localhost:8080/",
     "height": 419
    },
    "id": "tuFZiv5Bm4Ey",
    "outputId": "e106f138-176e-4387-c216-3830fe8cb174",
    "scrolled": true
   },
   "outputs": [
    {
     "data": {
      "text/html": [
       "<div>\n",
       "<style scoped>\n",
       "    .dataframe tbody tr th:only-of-type {\n",
       "        vertical-align: middle;\n",
       "    }\n",
       "\n",
       "    .dataframe tbody tr th {\n",
       "        vertical-align: top;\n",
       "    }\n",
       "\n",
       "    .dataframe thead th {\n",
       "        text-align: right;\n",
       "    }\n",
       "</style>\n",
       "<table border=\"1\" class=\"dataframe\">\n",
       "  <thead>\n",
       "    <tr style=\"text-align: right;\">\n",
       "      <th></th>\n",
       "      <th>SEX</th>\n",
       "      <th>UMUR</th>\n",
       "      <th>TB</th>\n",
       "      <th>TB/U</th>\n",
       "      <th>sangat_pendek</th>\n",
       "      <th>pendek</th>\n",
       "      <th>label</th>\n",
       "    </tr>\n",
       "  </thead>\n",
       "  <tbody>\n",
       "    <tr>\n",
       "      <th>0</th>\n",
       "      <td>1</td>\n",
       "      <td>55</td>\n",
       "      <td>97.0</td>\n",
       "      <td>-2.323074</td>\n",
       "      <td>0</td>\n",
       "      <td>1</td>\n",
       "      <td>1</td>\n",
       "    </tr>\n",
       "    <tr>\n",
       "      <th>1</th>\n",
       "      <td>1</td>\n",
       "      <td>51</td>\n",
       "      <td>96.1</td>\n",
       "      <td>-2.096405</td>\n",
       "      <td>0</td>\n",
       "      <td>1</td>\n",
       "      <td>1</td>\n",
       "    </tr>\n",
       "    <tr>\n",
       "      <th>2</th>\n",
       "      <td>2</td>\n",
       "      <td>49</td>\n",
       "      <td>92.0</td>\n",
       "      <td>-2.661017</td>\n",
       "      <td>0</td>\n",
       "      <td>1</td>\n",
       "      <td>1</td>\n",
       "    </tr>\n",
       "    <tr>\n",
       "      <th>3</th>\n",
       "      <td>1</td>\n",
       "      <td>37</td>\n",
       "      <td>86.5</td>\n",
       "      <td>-2.855393</td>\n",
       "      <td>0</td>\n",
       "      <td>1</td>\n",
       "      <td>1</td>\n",
       "    </tr>\n",
       "    <tr>\n",
       "      <th>4</th>\n",
       "      <td>1</td>\n",
       "      <td>34</td>\n",
       "      <td>84.3</td>\n",
       "      <td>-2.936088</td>\n",
       "      <td>0</td>\n",
       "      <td>1</td>\n",
       "      <td>1</td>\n",
       "    </tr>\n",
       "    <tr>\n",
       "      <th>...</th>\n",
       "      <td>...</td>\n",
       "      <td>...</td>\n",
       "      <td>...</td>\n",
       "      <td>...</td>\n",
       "      <td>...</td>\n",
       "      <td>...</td>\n",
       "      <td>...</td>\n",
       "    </tr>\n",
       "    <tr>\n",
       "      <th>7800</th>\n",
       "      <td>1</td>\n",
       "      <td>40</td>\n",
       "      <td>95.4</td>\n",
       "      <td>-0.921263</td>\n",
       "      <td>0</td>\n",
       "      <td>0</td>\n",
       "      <td>0</td>\n",
       "    </tr>\n",
       "    <tr>\n",
       "      <th>7801</th>\n",
       "      <td>1</td>\n",
       "      <td>35</td>\n",
       "      <td>90.1</td>\n",
       "      <td>-1.503828</td>\n",
       "      <td>0</td>\n",
       "      <td>0</td>\n",
       "      <td>0</td>\n",
       "    </tr>\n",
       "    <tr>\n",
       "      <th>7802</th>\n",
       "      <td>2</td>\n",
       "      <td>35</td>\n",
       "      <td>88.1</td>\n",
       "      <td>-1.706878</td>\n",
       "      <td>0</td>\n",
       "      <td>0</td>\n",
       "      <td>0</td>\n",
       "    </tr>\n",
       "    <tr>\n",
       "      <th>7803</th>\n",
       "      <td>1</td>\n",
       "      <td>33</td>\n",
       "      <td>96.1</td>\n",
       "      <td>0.503251</td>\n",
       "      <td>0</td>\n",
       "      <td>0</td>\n",
       "      <td>0</td>\n",
       "    </tr>\n",
       "    <tr>\n",
       "      <th>7804</th>\n",
       "      <td>1</td>\n",
       "      <td>25</td>\n",
       "      <td>86.0</td>\n",
       "      <td>-0.868616</td>\n",
       "      <td>0</td>\n",
       "      <td>0</td>\n",
       "      <td>0</td>\n",
       "    </tr>\n",
       "  </tbody>\n",
       "</table>\n",
       "<p>7805 rows × 7 columns</p>\n",
       "</div>"
      ],
      "text/plain": [
       "      SEX  UMUR    TB      TB/U  sangat_pendek  pendek  label\n",
       "0       1    55  97.0 -2.323074              0       1      1\n",
       "1       1    51  96.1 -2.096405              0       1      1\n",
       "2       2    49  92.0 -2.661017              0       1      1\n",
       "3       1    37  86.5 -2.855393              0       1      1\n",
       "4       1    34  84.3 -2.936088              0       1      1\n",
       "...   ...   ...   ...       ...            ...     ...    ...\n",
       "7800    1    40  95.4 -0.921263              0       0      0\n",
       "7801    1    35  90.1 -1.503828              0       0      0\n",
       "7802    2    35  88.1 -1.706878              0       0      0\n",
       "7803    1    33  96.1  0.503251              0       0      0\n",
       "7804    1    25  86.0 -0.868616              0       0      0\n",
       "\n",
       "[7805 rows x 7 columns]"
      ]
     },
     "execution_count": 3,
     "metadata": {},
     "output_type": "execute_result"
    }
   ],
   "source": [
    "df=pd.read_excel('dataseimbangbener.xlsx')\n",
    "df"
   ]
  },
  {
   "cell_type": "code",
   "execution_count": 4,
   "metadata": {
    "colab": {
     "base_uri": "https://localhost:8080/",
     "height": 419
    },
    "id": "tbn-EqoGpJLo",
    "outputId": "65c8d108-b992-4c5f-9bc4-b8901d983fda"
   },
   "outputs": [
    {
     "data": {
      "text/html": [
       "<div>\n",
       "<style scoped>\n",
       "    .dataframe tbody tr th:only-of-type {\n",
       "        vertical-align: middle;\n",
       "    }\n",
       "\n",
       "    .dataframe tbody tr th {\n",
       "        vertical-align: top;\n",
       "    }\n",
       "\n",
       "    .dataframe thead th {\n",
       "        text-align: right;\n",
       "    }\n",
       "</style>\n",
       "<table border=\"1\" class=\"dataframe\">\n",
       "  <thead>\n",
       "    <tr style=\"text-align: right;\">\n",
       "      <th></th>\n",
       "      <th>SEX</th>\n",
       "      <th>UMUR</th>\n",
       "      <th>TB</th>\n",
       "      <th>label</th>\n",
       "    </tr>\n",
       "  </thead>\n",
       "  <tbody>\n",
       "    <tr>\n",
       "      <th>0</th>\n",
       "      <td>1</td>\n",
       "      <td>55</td>\n",
       "      <td>97.0</td>\n",
       "      <td>1</td>\n",
       "    </tr>\n",
       "    <tr>\n",
       "      <th>1</th>\n",
       "      <td>1</td>\n",
       "      <td>51</td>\n",
       "      <td>96.1</td>\n",
       "      <td>1</td>\n",
       "    </tr>\n",
       "    <tr>\n",
       "      <th>2</th>\n",
       "      <td>2</td>\n",
       "      <td>49</td>\n",
       "      <td>92.0</td>\n",
       "      <td>1</td>\n",
       "    </tr>\n",
       "    <tr>\n",
       "      <th>3</th>\n",
       "      <td>1</td>\n",
       "      <td>37</td>\n",
       "      <td>86.5</td>\n",
       "      <td>1</td>\n",
       "    </tr>\n",
       "    <tr>\n",
       "      <th>4</th>\n",
       "      <td>1</td>\n",
       "      <td>34</td>\n",
       "      <td>84.3</td>\n",
       "      <td>1</td>\n",
       "    </tr>\n",
       "    <tr>\n",
       "      <th>...</th>\n",
       "      <td>...</td>\n",
       "      <td>...</td>\n",
       "      <td>...</td>\n",
       "      <td>...</td>\n",
       "    </tr>\n",
       "    <tr>\n",
       "      <th>7800</th>\n",
       "      <td>1</td>\n",
       "      <td>40</td>\n",
       "      <td>95.4</td>\n",
       "      <td>0</td>\n",
       "    </tr>\n",
       "    <tr>\n",
       "      <th>7801</th>\n",
       "      <td>1</td>\n",
       "      <td>35</td>\n",
       "      <td>90.1</td>\n",
       "      <td>0</td>\n",
       "    </tr>\n",
       "    <tr>\n",
       "      <th>7802</th>\n",
       "      <td>2</td>\n",
       "      <td>35</td>\n",
       "      <td>88.1</td>\n",
       "      <td>0</td>\n",
       "    </tr>\n",
       "    <tr>\n",
       "      <th>7803</th>\n",
       "      <td>1</td>\n",
       "      <td>33</td>\n",
       "      <td>96.1</td>\n",
       "      <td>0</td>\n",
       "    </tr>\n",
       "    <tr>\n",
       "      <th>7804</th>\n",
       "      <td>1</td>\n",
       "      <td>25</td>\n",
       "      <td>86.0</td>\n",
       "      <td>0</td>\n",
       "    </tr>\n",
       "  </tbody>\n",
       "</table>\n",
       "<p>7805 rows × 4 columns</p>\n",
       "</div>"
      ],
      "text/plain": [
       "      SEX  UMUR    TB  label\n",
       "0       1    55  97.0      1\n",
       "1       1    51  96.1      1\n",
       "2       2    49  92.0      1\n",
       "3       1    37  86.5      1\n",
       "4       1    34  84.3      1\n",
       "...   ...   ...   ...    ...\n",
       "7800    1    40  95.4      0\n",
       "7801    1    35  90.1      0\n",
       "7802    2    35  88.1      0\n",
       "7803    1    33  96.1      0\n",
       "7804    1    25  86.0      0\n",
       "\n",
       "[7805 rows x 4 columns]"
      ]
     },
     "execution_count": 4,
     "metadata": {},
     "output_type": "execute_result"
    }
   ],
   "source": [
    "df.drop([\"sangat_pendek\",\"pendek\",\"TB/U\"],axis=1,inplace=True)\n",
    "df"
   ]
  },
  {
   "cell_type": "code",
   "execution_count": 5,
   "metadata": {
    "colab": {
     "base_uri": "https://localhost:8080/",
     "height": 204
    },
    "id": "9SMouFQWuvEi",
    "outputId": "c67c5e88-fe86-409f-8ce1-b7ff35e379e1"
   },
   "outputs": [
    {
     "data": {
      "text/plain": [
       "array([[ 1. , 55. , 97. ],\n",
       "       [ 1. , 51. , 96.1],\n",
       "       [ 2. , 49. , 92. ],\n",
       "       ...,\n",
       "       [ 2. , 35. , 88.1],\n",
       "       [ 1. , 33. , 96.1],\n",
       "       [ 1. , 25. , 86. ]])"
      ]
     },
     "execution_count": 5,
     "metadata": {},
     "output_type": "execute_result"
    }
   ],
   "source": [
    "#pisahkan data feature dan target\n",
    "X = df.iloc [:, : -1]    #sekumpulan feature untuk training dataset\n",
    "y = df.iloc [:,-1: ].values.ravel()             #sekumpulan nilai target untuk training set\n",
    "\n",
    "# X.head()\n",
    "X.values"
   ]
  },
  {
   "cell_type": "code",
   "execution_count": 6,
   "metadata": {
    "id": "VHeM-q652Ebf",
    "outputId": "6a24d677-76c4-44e1-a216-a67aa8fc15a9"
   },
   "outputs": [
    {
     "data": {
      "text/plain": [
       "array([1, 1, 1, ..., 0, 0, 0], dtype=int64)"
      ]
     },
     "execution_count": 6,
     "metadata": {},
     "output_type": "execute_result"
    }
   ],
   "source": [
    "y"
   ]
  },
  {
   "cell_type": "code",
   "execution_count": 7,
   "metadata": {
    "id": "IMB0LkvvxvZq"
   },
   "outputs": [],
   "source": [
    "X_train, X_test, y_train, y_test = train_test_split(X, y, test_size = 0.2, random_state=0)"
   ]
  },
  {
   "cell_type": "code",
   "execution_count": 8,
   "metadata": {
    "colab": {
     "base_uri": "https://localhost:8080/"
    },
    "id": "WvfR9z2dA2H4",
    "outputId": "cc50dcfd-afbf-4131-d1e1-ea74cd85526b"
   },
   "outputs": [
    {
     "data": {
      "text/plain": [
       "(6244, 3)"
      ]
     },
     "execution_count": 8,
     "metadata": {},
     "output_type": "execute_result"
    }
   ],
   "source": [
    "X_train.shape  #data training 80%\n"
   ]
  },
  {
   "cell_type": "code",
   "execution_count": 9,
   "metadata": {
    "colab": {
     "base_uri": "https://localhost:8080/"
    },
    "id": "ert2GgDjA9l3",
    "outputId": "060c1de6-f7d6-42dc-d199-3deb649f7666"
   },
   "outputs": [
    {
     "data": {
      "text/plain": [
       "(1561, 3)"
      ]
     },
     "execution_count": 9,
     "metadata": {},
     "output_type": "execute_result"
    }
   ],
   "source": [
    "X_test.shape #data test 20%"
   ]
  },
  {
   "cell_type": "code",
   "execution_count": 10,
   "metadata": {
    "id": "5M1Q6RJ6DiS0"
   },
   "outputs": [],
   "source": [
    "# y_train.shape"
   ]
  },
  {
   "cell_type": "code",
   "execution_count": 11,
   "metadata": {
    "id": "zlm8U4njDj6k"
   },
   "outputs": [],
   "source": [
    "# y_test.shape"
   ]
  },
  {
   "cell_type": "code",
   "execution_count": 27,
   "metadata": {
    "colab": {
     "base_uri": "https://localhost:8080/"
    },
    "id": "APfO6EYnKxd-",
    "outputId": "5f900020-0435-4747-f4c3-8d9aa0079635"
   },
   "outputs": [
    {
     "data": {
      "text/plain": [
       "KNeighborsClassifier(n_neighbors=3)"
      ]
     },
     "execution_count": 27,
     "metadata": {},
     "output_type": "execute_result"
    }
   ],
   "source": [
    "# model learning data dengan dengan knn\n",
    "from sklearn.neighbors import KNeighborsClassifier\n",
    "classifier = KNeighborsClassifier(n_neighbors=3, p=2) # k=3\n",
    "classifier.fit(X_train, y_train)"
   ]
  },
  {
   "cell_type": "markdown",
   "metadata": {
    "id": "O3nmvLTlKMu0"
   },
   "source": [
    "Predict\n",
    "\n",
    "---\n",
    "\n"
   ]
  },
  {
   "cell_type": "code",
   "execution_count": 22,
   "metadata": {
    "colab": {
     "base_uri": "https://localhost:8080/"
    },
    "id": "_ykMNh6aBher",
    "outputId": "c28d8a86-a16d-4f7f-8261-3d49f8ab2c85"
   },
   "outputs": [
    {
     "name": "stdout",
     "output_type": "stream",
     "text": [
      "classification:\n",
      "              precision    recall  f1-score   support\n",
      "\n",
      "           0       0.98      0.96      0.97       807\n",
      "           1       0.96      0.98      0.97       754\n",
      "\n",
      "    accuracy                           0.97      1561\n",
      "   macro avg       0.97      0.97      0.97      1561\n",
      "weighted avg       0.97      0.97      0.97      1561\n",
      "\n",
      "confusion:\n",
      "[[778  29]\n",
      " [ 12 742]]\n",
      "Accuracy: 0.9737347853939782\n",
      "Precision: 0.9623865110246433\n",
      "Recall: 0.9840848806366048\n"
     ]
    }
   ],
   "source": [
    "#hasil prediksi\n",
    "\n",
    "y_pred = classifier.predict(X_test) # yang diprediski dari data test\n",
    "print(\"classification:\")\n",
    "print(classification_report(y_test,y_pred))\n",
    "print(\"confusion:\")\n",
    "print(confusion_matrix(y_test,y_pred))\n",
    "print(\"Accuracy:\", accuracy_score(y_test, y_pred))\n",
    "print(\"Precision:\", metrics.precision_score(y_test, y_pred))\n",
    "print(\"Recall:\", metrics.recall_score(y_test, y_pred))"
   ]
  },
  {
   "cell_type": "code",
   "execution_count": 23,
   "metadata": {
    "id": "qxdRyjZ_2Ebh",
    "outputId": "ccce4f28-1c3f-4831-f0e7-10735ffbb499"
   },
   "outputs": [
    {
     "name": "stdout",
     "output_type": "stream",
     "text": [
      "Prediksi yang dihasilkan\n"
     ]
    },
    {
     "data": {
      "text/html": [
       "<div>\n",
       "<style scoped>\n",
       "    .dataframe tbody tr th:only-of-type {\n",
       "        vertical-align: middle;\n",
       "    }\n",
       "\n",
       "    .dataframe tbody tr th {\n",
       "        vertical-align: top;\n",
       "    }\n",
       "\n",
       "    .dataframe thead th {\n",
       "        text-align: right;\n",
       "    }\n",
       "</style>\n",
       "<table border=\"1\" class=\"dataframe\">\n",
       "  <thead>\n",
       "    <tr style=\"text-align: right;\">\n",
       "      <th></th>\n",
       "      <th>Y True</th>\n",
       "      <th>predic</th>\n",
       "    </tr>\n",
       "  </thead>\n",
       "  <tbody>\n",
       "    <tr>\n",
       "      <th>0</th>\n",
       "      <td>1</td>\n",
       "      <td>1</td>\n",
       "    </tr>\n",
       "    <tr>\n",
       "      <th>1</th>\n",
       "      <td>1</td>\n",
       "      <td>1</td>\n",
       "    </tr>\n",
       "    <tr>\n",
       "      <th>2</th>\n",
       "      <td>0</td>\n",
       "      <td>0</td>\n",
       "    </tr>\n",
       "    <tr>\n",
       "      <th>3</th>\n",
       "      <td>1</td>\n",
       "      <td>1</td>\n",
       "    </tr>\n",
       "    <tr>\n",
       "      <th>4</th>\n",
       "      <td>0</td>\n",
       "      <td>0</td>\n",
       "    </tr>\n",
       "    <tr>\n",
       "      <th>...</th>\n",
       "      <td>...</td>\n",
       "      <td>...</td>\n",
       "    </tr>\n",
       "    <tr>\n",
       "      <th>1556</th>\n",
       "      <td>1</td>\n",
       "      <td>1</td>\n",
       "    </tr>\n",
       "    <tr>\n",
       "      <th>1557</th>\n",
       "      <td>1</td>\n",
       "      <td>1</td>\n",
       "    </tr>\n",
       "    <tr>\n",
       "      <th>1558</th>\n",
       "      <td>1</td>\n",
       "      <td>1</td>\n",
       "    </tr>\n",
       "    <tr>\n",
       "      <th>1559</th>\n",
       "      <td>1</td>\n",
       "      <td>1</td>\n",
       "    </tr>\n",
       "    <tr>\n",
       "      <th>1560</th>\n",
       "      <td>0</td>\n",
       "      <td>0</td>\n",
       "    </tr>\n",
       "  </tbody>\n",
       "</table>\n",
       "<p>1561 rows × 2 columns</p>\n",
       "</div>"
      ],
      "text/plain": [
       "      Y True  predic\n",
       "0          1       1\n",
       "1          1       1\n",
       "2          0       0\n",
       "3          1       1\n",
       "4          0       0\n",
       "...      ...     ...\n",
       "1556       1       1\n",
       "1557       1       1\n",
       "1558       1       1\n",
       "1559       1       1\n",
       "1560       0       0\n",
       "\n",
       "[1561 rows x 2 columns]"
      ]
     },
     "execution_count": 23,
     "metadata": {},
     "output_type": "execute_result"
    }
   ],
   "source": [
    "cols = {\n",
    "    'Y True' : y_test,\n",
    "    'predic' : y_pred,\n",
    "    \n",
    "}\n",
    "print(\"Prediksi yang dihasilkan\")\n",
    "pd.DataFrame(cols)"
   ]
  },
  {
   "cell_type": "code",
   "execution_count": 24,
   "metadata": {
    "id": "AlpUqvLKFplr"
   },
   "outputs": [],
   "source": [
    "# y_pred "
   ]
  },
  {
   "cell_type": "code",
   "execution_count": 25,
   "metadata": {
    "id": "ryueqiUJlYLb"
   },
   "outputs": [
    {
     "data": {
      "text/plain": [
       "array([1], dtype=int64)"
      ]
     },
     "execution_count": 25,
     "metadata": {},
     "output_type": "execute_result"
    }
   ],
   "source": [
    "classifier.predict([[1,55,97]])"
   ]
  },
  {
   "cell_type": "code",
   "execution_count": 17,
   "metadata": {
    "id": "HBbz5sir2Ebi"
   },
   "outputs": [],
   "source": [
    "# y_predk = classifier.predict([[1, 32, 82.7, -3.153154]])\n",
    "# y_pred"
   ]
  },
  {
   "cell_type": "markdown",
   "metadata": {
    "id": "8UTgCIqOF3ZZ"
   },
   "source": [
    "Pengukuran peformance\n"
   ]
  },
  {
   "cell_type": "code",
   "execution_count": 18,
   "metadata": {
    "id": "hYBmB6hW2Ebi",
    "outputId": "f92e99cb-f1bf-4f69-bded-96c937092006"
   },
   "outputs": [
    {
     "data": {
      "text/html": [
       "<div>\n",
       "<style scoped>\n",
       "    .dataframe tbody tr th:only-of-type {\n",
       "        vertical-align: middle;\n",
       "    }\n",
       "\n",
       "    .dataframe tbody tr th {\n",
       "        vertical-align: top;\n",
       "    }\n",
       "\n",
       "    .dataframe thead th {\n",
       "        text-align: right;\n",
       "    }\n",
       "</style>\n",
       "<table border=\"1\" class=\"dataframe\">\n",
       "  <thead>\n",
       "    <tr style=\"text-align: right;\">\n",
       "      <th></th>\n",
       "      <th>fit_time</th>\n",
       "      <th>score_time</th>\n",
       "      <th>test_accuracy</th>\n",
       "      <th>train_accuracy</th>\n",
       "      <th>test_precision</th>\n",
       "      <th>train_precision</th>\n",
       "      <th>test_recall</th>\n",
       "      <th>train_recall</th>\n",
       "    </tr>\n",
       "  </thead>\n",
       "  <tbody>\n",
       "    <tr>\n",
       "      <th>0</th>\n",
       "      <td>0.004986</td>\n",
       "      <td>0.009976</td>\n",
       "      <td>0.980892</td>\n",
       "      <td>0.980769</td>\n",
       "      <td>1.000000</td>\n",
       "      <td>0.970717</td>\n",
       "      <td>0.964286</td>\n",
       "      <td>0.989552</td>\n",
       "    </tr>\n",
       "    <tr>\n",
       "      <th>1</th>\n",
       "      <td>0.003989</td>\n",
       "      <td>0.007979</td>\n",
       "      <td>0.967949</td>\n",
       "      <td>0.979359</td>\n",
       "      <td>0.928571</td>\n",
       "      <td>0.967422</td>\n",
       "      <td>1.000000</td>\n",
       "      <td>0.991292</td>\n",
       "    </tr>\n",
       "    <tr>\n",
       "      <th>2</th>\n",
       "      <td>0.002992</td>\n",
       "      <td>0.010967</td>\n",
       "      <td>0.935897</td>\n",
       "      <td>0.983630</td>\n",
       "      <td>0.917647</td>\n",
       "      <td>0.975146</td>\n",
       "      <td>0.962963</td>\n",
       "      <td>0.991085</td>\n",
       "    </tr>\n",
       "    <tr>\n",
       "      <th>3</th>\n",
       "      <td>0.003989</td>\n",
       "      <td>0.006983</td>\n",
       "      <td>0.967949</td>\n",
       "      <td>0.980071</td>\n",
       "      <td>0.975000</td>\n",
       "      <td>0.969432</td>\n",
       "      <td>0.962963</td>\n",
       "      <td>0.989599</td>\n",
       "    </tr>\n",
       "    <tr>\n",
       "      <th>4</th>\n",
       "      <td>0.002993</td>\n",
       "      <td>0.006945</td>\n",
       "      <td>0.967949</td>\n",
       "      <td>0.983630</td>\n",
       "      <td>0.951807</td>\n",
       "      <td>0.972424</td>\n",
       "      <td>0.987500</td>\n",
       "      <td>0.994065</td>\n",
       "    </tr>\n",
       "    <tr>\n",
       "      <th>5</th>\n",
       "      <td>0.003989</td>\n",
       "      <td>0.006984</td>\n",
       "      <td>0.948718</td>\n",
       "      <td>0.981495</td>\n",
       "      <td>0.945205</td>\n",
       "      <td>0.968526</td>\n",
       "      <td>0.945205</td>\n",
       "      <td>0.994126</td>\n",
       "    </tr>\n",
       "    <tr>\n",
       "      <th>6</th>\n",
       "      <td>0.003987</td>\n",
       "      <td>0.007976</td>\n",
       "      <td>0.974359</td>\n",
       "      <td>0.981495</td>\n",
       "      <td>0.976190</td>\n",
       "      <td>0.969388</td>\n",
       "      <td>0.976190</td>\n",
       "      <td>0.992537</td>\n",
       "    </tr>\n",
       "    <tr>\n",
       "      <th>7</th>\n",
       "      <td>0.003949</td>\n",
       "      <td>0.008019</td>\n",
       "      <td>0.948718</td>\n",
       "      <td>0.980783</td>\n",
       "      <td>0.918919</td>\n",
       "      <td>0.971306</td>\n",
       "      <td>0.971429</td>\n",
       "      <td>0.989766</td>\n",
       "    </tr>\n",
       "    <tr>\n",
       "      <th>8</th>\n",
       "      <td>0.002992</td>\n",
       "      <td>0.007979</td>\n",
       "      <td>0.948718</td>\n",
       "      <td>0.985053</td>\n",
       "      <td>0.915493</td>\n",
       "      <td>0.978448</td>\n",
       "      <td>0.970149</td>\n",
       "      <td>0.991266</td>\n",
       "    </tr>\n",
       "    <tr>\n",
       "      <th>9</th>\n",
       "      <td>0.003989</td>\n",
       "      <td>0.007978</td>\n",
       "      <td>0.980769</td>\n",
       "      <td>0.979359</td>\n",
       "      <td>0.971429</td>\n",
       "      <td>0.968571</td>\n",
       "      <td>0.985507</td>\n",
       "      <td>0.989781</td>\n",
       "    </tr>\n",
       "  </tbody>\n",
       "</table>\n",
       "</div>"
      ],
      "text/plain": [
       "   fit_time  score_time  test_accuracy  train_accuracy  test_precision  \\\n",
       "0  0.004986    0.009976       0.980892        0.980769        1.000000   \n",
       "1  0.003989    0.007979       0.967949        0.979359        0.928571   \n",
       "2  0.002992    0.010967       0.935897        0.983630        0.917647   \n",
       "3  0.003989    0.006983       0.967949        0.980071        0.975000   \n",
       "4  0.002993    0.006945       0.967949        0.983630        0.951807   \n",
       "5  0.003989    0.006984       0.948718        0.981495        0.945205   \n",
       "6  0.003987    0.007976       0.974359        0.981495        0.976190   \n",
       "7  0.003949    0.008019       0.948718        0.980783        0.918919   \n",
       "8  0.002992    0.007979       0.948718        0.985053        0.915493   \n",
       "9  0.003989    0.007978       0.980769        0.979359        0.971429   \n",
       "\n",
       "   train_precision  test_recall  train_recall  \n",
       "0         0.970717     0.964286      0.989552  \n",
       "1         0.967422     1.000000      0.991292  \n",
       "2         0.975146     0.962963      0.991085  \n",
       "3         0.969432     0.962963      0.989599  \n",
       "4         0.972424     0.987500      0.994065  \n",
       "5         0.968526     0.945205      0.994126  \n",
       "6         0.969388     0.976190      0.992537  \n",
       "7         0.971306     0.971429      0.989766  \n",
       "8         0.978448     0.970149      0.991266  \n",
       "9         0.968571     0.985507      0.989781  "
      ]
     },
     "execution_count": 18,
     "metadata": {},
     "output_type": "execute_result"
    }
   ],
   "source": [
    "kfold = KFold(n_splits=10)\n",
    "scores = ['accuracy', 'precision', 'recall']\n",
    "results = cross_validate(classifier, X_test, y_test, cv=kfold, scoring=scores, return_train_score=True)\n",
    "results_data = pd.DataFrame(results)\n",
    "results_data"
   ]
  },
  {
   "cell_type": "code",
   "execution_count": 19,
   "metadata": {
    "id": "dR_uqOsE2Ebj",
    "outputId": "6501219a-6bce-4747-cb57-98586b3e28b0"
   },
   "outputs": [
    {
     "name": "stdout",
     "output_type": "stream",
     "text": [
      "Preformance Model KNN\n",
      "Accuracy : 0.96\n",
      "Precision : 0.95 \n",
      "Recall : 0.97 \n"
     ]
    }
   ],
   "source": [
    "print(\"Preformance Model KNN\")\n",
    "\n",
    "accuracy = results_data.test_accuracy.mean() \n",
    "precision = results_data.test_precision.mean() \n",
    "recall = results_data.test_recall.mean() \n",
    "\n",
    "print(\"Accuracy : %0.2f\" % accuracy)\n",
    "print(\"Precision : %0.2f \" % precision)\n",
    "print(\"Recall : %0.2f \" % recall)"
   ]
  },
  {
   "cell_type": "code",
   "execution_count": 20,
   "metadata": {
    "id": "nqRJVETAtk_5"
   },
   "outputs": [],
   "source": [
    "import pickle\n",
    "pickle.dump(classifier, open('knn.pkl','wb'))"
   ]
  },
  {
   "cell_type": "markdown",
   "metadata": {
    "id": "v-8JYtNStktX"
   },
   "source": []
  },
  {
   "cell_type": "code",
   "execution_count": null,
   "metadata": {
    "id": "e_tihX0y2Ebj"
   },
   "outputs": [],
   "source": []
  }
 ],
 "metadata": {
  "colab": {
   "collapsed_sections": [],
   "name": "KNN_TA 2.ipynb",
   "provenance": []
  },
  "kernelspec": {
   "display_name": "Python 3",
   "language": "python",
   "name": "python3"
  },
  "language_info": {
   "codemirror_mode": {
    "name": "ipython",
    "version": 3
   },
   "file_extension": ".py",
   "mimetype": "text/x-python",
   "name": "python",
   "nbconvert_exporter": "python",
   "pygments_lexer": "ipython3",
   "version": "3.8.5"
  }
 },
 "nbformat": 4,
 "nbformat_minor": 1
}
